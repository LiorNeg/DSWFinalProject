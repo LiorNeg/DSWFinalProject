{
 "cells": [
  {
   "cell_type": "markdown",
   "metadata": {
    "collapsed": true
   },
   "source": [
    "# Phase A - Collecting the Data"
   ]
  },
  {
   "cell_type": "markdown",
   "metadata": {},
   "source": [
    "Connecting and downloading the dataSet"
   ]
  },
  {
   "cell_type": "code",
   "execution_count": 1,
   "metadata": {},
   "outputs": [
    {
     "data": {
      "text/plain": [
       "('dataSet/bbc-fulltext.zip', <http.client.HTTPMessage at 0x7f1755441cf8>)"
      ]
     },
     "execution_count": 1,
     "metadata": {},
     "output_type": "execute_result"
    }
   ],
   "source": [
    "import urllib.request, urllib.parse, urllib.error\n",
    "import os\n",
    "url = 'http://mlg.ucd.ie/files/datasets/bbc-fulltext.zip'\n",
    "directory = 'dataSet'\n",
    "filename = 'dataSet/bbc-fulltext.zip'\n",
    "if not os.path.exists(directory):\n",
    "    os.makedirs(directory)\n",
    "urllib.request.urlretrieve(url, filename)"
   ]
  },
  {
   "cell_type": "markdown",
   "metadata": {},
   "source": [
    "Extracting the data into 'dataSet' directory"
   ]
  },
  {
   "cell_type": "code",
   "execution_count": 2,
   "metadata": {},
   "outputs": [],
   "source": [
    "import zipfile\n",
    "zip_ref = zipfile.ZipFile(filename, 'r')\n",
    "zip_ref.extractall(directory)\n",
    "zip_ref.close()\n",
    "if os.path.exists(filename):\n",
    "    os.remove(filename)"
   ]
  },
  {
   "cell_type": "markdown",
   "metadata": {},
   "source": [
    "Preprocessing:\n",
    "* Creating a \"label to content\" mapping"
   ]
  },
  {
   "cell_type": "code",
   "execution_count": 9,
   "metadata": {},
   "outputs": [],
   "source": [
    "import csv\n",
    "import codecs\n",
    "with open('dataSet/data-mapping.csv', 'w') as csvfile:\n",
    "    fieldNames = ['Label', 'Content']\n",
    "    writer = csv.DictWriter(csvfile, fieldnames=fieldNames)\n",
    "    writer.writeheader()\n",
    "    dataDir = 'dataSet/bbc'\n",
    "    if os.path.exists(dataDir): \n",
    "        for d in os.listdir(dataDir):\n",
    "            subdir = dataDir + '/' + d\n",
    "            if not os.path.isdir(subdir):\n",
    "                continue\n",
    "            for file in os.listdir(subdir):\n",
    "                filepath = subdir + '/' + file\n",
    "                fd = codecs.open(filepath, 'r', encoding='utf-8', errors='ignore')\n",
    "                content = fd.read()\n",
    "                writer.writerow({'Label': d, 'Content': content})"
   ]
  },
  {
   "cell_type": "markdown",
   "metadata": {},
   "source": [
    "For more info see: [BBC-DataSet](https://github.com/LiorNeg/DSWFinalProject/tree/master/dataSet/bbc)"
   ]
  }
 ],
 "metadata": {
  "kernelspec": {
   "display_name": "Python 2",
   "language": "python",
   "name": "python2"
  },
  "language_info": {
   "codemirror_mode": {
    "name": "ipython",
    "version": 2.0
   },
   "file_extension": ".py",
   "mimetype": "text/x-python",
   "name": "python",
   "nbconvert_exporter": "python",
   "pygments_lexer": "ipython2",
   "version": "2.7.6"
  }
 },
 "nbformat": 4,
 "nbformat_minor": 0
}